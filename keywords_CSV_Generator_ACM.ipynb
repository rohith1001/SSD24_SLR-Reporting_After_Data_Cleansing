{
  "nbformat": 4,
  "nbformat_minor": 0,
  "metadata": {
    "colab": {
      "name": "keywords_CSV_Generator_ACM.ipynb",
      "provenance": []
    },
    "kernelspec": {
      "name": "python3",
      "display_name": "Python 3"
    }
  },
  "cells": [
    {
      "cell_type": "code",
      "metadata": {
        "id": "65aXYEcMgTBE"
      },
      "source": [
        "import pandas as pd"
      ],
      "execution_count": 1,
      "outputs": []
    },
    {
      "cell_type": "code",
      "metadata": {
        "id": "y_dxymBzh_Vr",
        "colab": {
          "base_uri": "https://localhost:8080/",
          "height": 591
        },
        "outputId": "00264438-6eb2-4e83-a55c-aa35f0e80965"
      },
      "source": [
        "df=pd.read_csv('ACM.csv')\n",
        "df.head(5)"
      ],
      "execution_count": 2,
      "outputs": [
        {
          "output_type": "execute_result",
          "data": {
            "text/html": [
              "<div>\n",
              "<style scoped>\n",
              "    .dataframe tbody tr th:only-of-type {\n",
              "        vertical-align: middle;\n",
              "    }\n",
              "\n",
              "    .dataframe tbody tr th {\n",
              "        vertical-align: top;\n",
              "    }\n",
              "\n",
              "    .dataframe thead th {\n",
              "        text-align: right;\n",
              "    }\n",
              "</style>\n",
              "<table border=\"1\" class=\"dataframe\">\n",
              "  <thead>\n",
              "    <tr style=\"text-align: right;\">\n",
              "      <th></th>\n",
              "      <th>Unnamed: 0</th>\n",
              "      <th>id</th>\n",
              "      <th>author</th>\n",
              "      <th>abstract</th>\n",
              "      <th>booktitle</th>\n",
              "      <th>title</th>\n",
              "      <th>year</th>\n",
              "      <th>volume</th>\n",
              "      <th>number</th>\n",
              "      <th>pages</th>\n",
              "      <th>keywords</th>\n",
              "      <th>doi</th>\n",
              "      <th>ISSN</th>\n",
              "      <th>months</th>\n",
              "      <th>isbn</th>\n",
              "      <th>publisher</th>\n",
              "      <th>address</th>\n",
              "      <th>url</th>\n",
              "      <th>numpages</th>\n",
              "      <th>location</th>\n",
              "      <th>series</th>\n",
              "    </tr>\n",
              "  </thead>\n",
              "  <tbody>\n",
              "    <tr>\n",
              "      <th>0</th>\n",
              "      <td>0</td>\n",
              "      <td>10.1145/2384716.2384763</td>\n",
              "      <td>Shams Imam</td>\n",
              "      <td>We present CnC-Python (CP), an approach to imp...</td>\n",
              "      <td>Proceedings of the 3rd Annual Conference on Sy...</td>\n",
              "      <td>CnC-Python: Multicore Programming with High Pr...</td>\n",
              "      <td>2012</td>\n",
              "      <td>NaN</td>\n",
              "      <td>NaN</td>\n",
              "      <td>111–112</td>\n",
              "      <td>cnc-python, parallel programming, concurrent c...</td>\n",
              "      <td>10.1145/2384716.2384763</td>\n",
              "      <td>NaN</td>\n",
              "      <td>NaN</td>\n",
              "      <td>9781450315630</td>\n",
              "      <td>Association for Computing Machinery</td>\n",
              "      <td>New York, NY, USA</td>\n",
              "      <td>https://doi.org/10.1145/2384716.2384763</td>\n",
              "      <td>2</td>\n",
              "      <td>Tucson, Arizona, USA</td>\n",
              "      <td>SPLASH '12</td>\n",
              "    </tr>\n",
              "    <tr>\n",
              "      <th>1</th>\n",
              "      <td>1</td>\n",
              "      <td>10.1145/2635648.2635660</td>\n",
              "      <td>Pedro Ramos, Antonio Leitao</td>\n",
              "      <td>Racket is a descendant of Scheme, a language t...</td>\n",
              "      <td>Proceedings of ILC 2014 on 8th International L...</td>\n",
              "      <td>Reaching Python from Racket</td>\n",
              "      <td>2014</td>\n",
              "      <td>NaN</td>\n",
              "      <td>NaN</td>\n",
              "      <td>32–38</td>\n",
              "      <td>Interoperability, Racket, Python</td>\n",
              "      <td>10.1145/2635648.2635660</td>\n",
              "      <td>NaN</td>\n",
              "      <td>NaN</td>\n",
              "      <td>9781450329316</td>\n",
              "      <td>Association for Computing Machinery</td>\n",
              "      <td>New York, NY, USA</td>\n",
              "      <td>https://doi.org/10.1145/2635648.2635660</td>\n",
              "      <td>7</td>\n",
              "      <td>Montreal, QC, Canada</td>\n",
              "      <td>ILC '14</td>\n",
              "    </tr>\n",
              "    <tr>\n",
              "      <th>2</th>\n",
              "      <td>2</td>\n",
              "      <td>10.5555/2188385.2343710</td>\n",
              "      <td>Tom De Smedt, Walter Daelemans</td>\n",
              "      <td>Pattern is a package for Python 2.4+ with func...</td>\n",
              "      <td>NaN</td>\n",
              "      <td>Pattern for Python</td>\n",
              "      <td>2012</td>\n",
              "      <td>13.0</td>\n",
              "      <td>NaN</td>\n",
              "      <td>2063–2067</td>\n",
              "      <td>python, data mining, machine learning, graph n...</td>\n",
              "      <td>NaN</td>\n",
              "      <td>1532-4435</td>\n",
              "      <td>June</td>\n",
              "      <td>NaN</td>\n",
              "      <td>JMLR.org</td>\n",
              "      <td>NaN</td>\n",
              "      <td>NaN</td>\n",
              "      <td>5</td>\n",
              "      <td>NaN</td>\n",
              "      <td>NaN</td>\n",
              "    </tr>\n",
              "    <tr>\n",
              "      <th>3</th>\n",
              "      <td>3</td>\n",
              "      <td>10.1145/611892.611996</td>\n",
              "      <td>Douglas Blank, Lisa Meeden, Deepak Kumar</td>\n",
              "      <td>This paper describes Pyro, a robotics programm...</td>\n",
              "      <td>Proceedings of the 34th SIGCSE Technical Sympo...</td>\n",
              "      <td>Python Robotics: An Environment for Exploring ...</td>\n",
              "      <td>2003</td>\n",
              "      <td>NaN</td>\n",
              "      <td>NaN</td>\n",
              "      <td>317–321</td>\n",
              "      <td>robotics, pedagogy, python</td>\n",
              "      <td>10.1145/611892.611996</td>\n",
              "      <td>NaN</td>\n",
              "      <td>NaN</td>\n",
              "      <td>158113648X</td>\n",
              "      <td>Association for Computing Machinery</td>\n",
              "      <td>New York, NY, USA</td>\n",
              "      <td>https://doi.org/10.1145/611892.611996</td>\n",
              "      <td>5</td>\n",
              "      <td>Reno, Navada, USA</td>\n",
              "      <td>SIGCSE '03</td>\n",
              "    </tr>\n",
              "    <tr>\n",
              "      <th>4</th>\n",
              "      <td>4</td>\n",
              "      <td>10.1145/792548.611996</td>\n",
              "      <td>Douglas Blank, Lisa Meeden, Deepak Kumar</td>\n",
              "      <td>This paper describes Pyro, a robotics programm...</td>\n",
              "      <td>NaN</td>\n",
              "      <td>Python Robotics: An Environment for Exploring ...</td>\n",
              "      <td>2003</td>\n",
              "      <td>35.0</td>\n",
              "      <td>1.0</td>\n",
              "      <td>317–321</td>\n",
              "      <td>python, robotics, pedagogy</td>\n",
              "      <td>10.1145/792548.611996</td>\n",
              "      <td>0097-8418</td>\n",
              "      <td>January</td>\n",
              "      <td>NaN</td>\n",
              "      <td>Association for Computing Machinery</td>\n",
              "      <td>New York, NY, USA</td>\n",
              "      <td>https://doi.org/10.1145/792548.611996</td>\n",
              "      <td>5</td>\n",
              "      <td>NaN</td>\n",
              "      <td>NaN</td>\n",
              "    </tr>\n",
              "  </tbody>\n",
              "</table>\n",
              "</div>"
            ],
            "text/plain": [
              "   Unnamed: 0                       id  ...              location      series\n",
              "0           0  10.1145/2384716.2384763  ...  Tucson, Arizona, USA  SPLASH '12\n",
              "1           1  10.1145/2635648.2635660  ...  Montreal, QC, Canada     ILC '14\n",
              "2           2  10.5555/2188385.2343710  ...                   NaN         NaN\n",
              "3           3    10.1145/611892.611996  ...     Reno, Navada, USA  SIGCSE '03\n",
              "4           4    10.1145/792548.611996  ...                   NaN         NaN\n",
              "\n",
              "[5 rows x 21 columns]"
            ]
          },
          "metadata": {
            "tags": []
          },
          "execution_count": 2
        }
      ]
    },
    {
      "cell_type": "code",
      "metadata": {
        "id": "5eFvh8Ap1JRF"
      },
      "source": [
        "df['keywords'] = df['keywords'].astype(str)\n",
        "count=df.keywords.apply(lambda x: pd.value_counts(x.split(\";\"))).sum(axis = 0)"
      ],
      "execution_count": 3,
      "outputs": []
    },
    {
      "cell_type": "code",
      "metadata": {
        "id": "IJP2UKowita1"
      },
      "source": [
        "count.to_csv('keyword.csv')"
      ],
      "execution_count": 4,
      "outputs": []
    },
    {
      "cell_type": "code",
      "metadata": {
        "id": "AumRxDj2U8G4"
      },
      "source": [
        "df['author']=df['author'].astype(str)\n",
        "count_auth=df.author.apply(lambda x: pd.value_counts(x.split(\",\"))).sum(axis = 0)\n"
      ],
      "execution_count": 5,
      "outputs": []
    },
    {
      "cell_type": "code",
      "metadata": {
        "id": "24kt9zNEXOae"
      },
      "source": [
        "count_auth.to_csv('author.csv')"
      ],
      "execution_count": 6,
      "outputs": []
    }
  ]
}