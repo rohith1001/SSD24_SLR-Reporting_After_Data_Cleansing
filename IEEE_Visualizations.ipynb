{
  "nbformat": 4,
  "nbformat_minor": 0,
  "metadata": {
    "colab": {
      "name": "IEEE_Visualizations.ipynb",
      "provenance": [],
      "collapsed_sections": []
    },
    "kernelspec": {
      "name": "python3",
      "display_name": "Python 3"
    }
  },
  "cells": [
    {
      "cell_type": "code",
      "metadata": {
        "id": "OTylV3KCZEE2"
      },
      "source": [
        "import pandas as pd\n",
        "import matplotlib.pyplot as plt\n",
        "import seaborn as sns"
      ],
      "execution_count": 1,
      "outputs": []
    },
    {
      "cell_type": "code",
      "metadata": {
        "id": "_SCBip3Jo45D",
        "colab": {
          "base_uri": "https://localhost:8080/",
          "height": 52
        },
        "outputId": "636cc469-c27f-4f41-a545-b3b2896c7a1f"
      },
      "source": [
        "'''df = pd.read_csv(\"ieee.csv\")\n",
        "df1 = pd.read_csv(\"IEEE.csv\")\n",
        "df['month']= df1['month']\n",
        "df.iloc[49, df.columns.get_loc('month')] = 'Dec'\n",
        "df.iloc[48, df.columns.get_loc('month')] = 'Feb'\n",
        "df.iloc[47, df.columns.get_loc('month')] = 'May'\n",
        "\n",
        "df.tail()'''"
      ],
      "execution_count": 2,
      "outputs": [
        {
          "output_type": "execute_result",
          "data": {
            "application/vnd.google.colaboratory.intrinsic+json": {
              "type": "string"
            },
            "text/plain": [
              "'df = pd.read_csv(\"ieee.csv\")\\ndf1 = pd.read_csv(\"IEEE.csv\")\\ndf[\\'month\\']= df1[\\'month\\']\\ndf.iloc[49, df.columns.get_loc(\\'month\\')] = \\'Dec\\'\\ndf.iloc[48, df.columns.get_loc(\\'month\\')] = \\'Feb\\'\\ndf.iloc[47, df.columns.get_loc(\\'month\\')] = \\'May\\'\\n\\ndf.tail()'"
            ]
          },
          "metadata": {
            "tags": []
          },
          "execution_count": 2
        }
      ]
    },
    {
      "cell_type": "code",
      "metadata": {
        "id": "BbxorF1ZZfLf",
        "colab": {
          "base_uri": "https://localhost:8080/",
          "height": 69
        },
        "outputId": "9b077627-116e-430a-9ac6-4cbde83daaa4"
      },
      "source": [
        "'''df.drop(df.columns[df.columns.str.contains('unnamed',case = False)],axis = 1, inplace = True)\n",
        "df2 = df.drop(['number', 'volume'], axis=1)\n",
        "\n",
        "df2[['start','end']] = df2.pages.str.split(\"-\",expand=True)\n",
        "df2[['start', 'end']] = df2[['start', 'end']].apply(pd.to_numeric) \n",
        "df2['no_of_pages'] = df2['end'] - df2['start'] + 1\n",
        "ieee = df2.drop(['pages'], axis=1)\n",
        "ieee.head(50)'''"
      ],
      "execution_count": 3,
      "outputs": [
        {
          "output_type": "execute_result",
          "data": {
            "application/vnd.google.colaboratory.intrinsic+json": {
              "type": "string"
            },
            "text/plain": [
              "'df.drop(df.columns[df.columns.str.contains(\\'unnamed\\',case = False)],axis = 1, inplace = True)\\ndf2 = df.drop([\\'number\\', \\'volume\\'], axis=1)\\n\\ndf2[[\\'start\\',\\'end\\']] = df2.pages.str.split(\"-\",expand=True)\\ndf2[[\\'start\\', \\'end\\']] = df2[[\\'start\\', \\'end\\']].apply(pd.to_numeric) \\ndf2[\\'no_of_pages\\'] = df2[\\'end\\'] - df2[\\'start\\'] + 1\\nieee = df2.drop([\\'pages\\'], axis=1)\\nieee.head(50)'"
            ]
          },
          "metadata": {
            "tags": []
          },
          "execution_count": 3
        }
      ]
    },
    {
      "cell_type": "code",
      "metadata": {
        "id": "c8xIT-h7zCPw",
        "colab": {
          "base_uri": "https://localhost:8080/",
          "height": 35
        },
        "outputId": "77c14c69-a6c2-4737-d215-8b8ce08ce319"
      },
      "source": [
        "'''ieee.to_csv('Ieee_new.csv')'''"
      ],
      "execution_count": 4,
      "outputs": [
        {
          "output_type": "execute_result",
          "data": {
            "application/vnd.google.colaboratory.intrinsic+json": {
              "type": "string"
            },
            "text/plain": [
              "\"ieee.to_csv('Ieee_new.csv')\""
            ]
          },
          "metadata": {
            "tags": []
          },
          "execution_count": 4
        }
      ]
    },
    {
      "cell_type": "code",
      "metadata": {
        "id": "E4eXq4XlzZjf",
        "colab": {
          "base_uri": "https://localhost:8080/",
          "height": 514
        },
        "outputId": "c50fe3dc-8960-4479-e193-e45f22ee0856"
      },
      "source": [
        "ieee = pd.read_csv('Ieee_new.csv')\n",
        "ieee.drop(ieee.columns[ieee.columns.str.contains('unnamed',case = False)],axis = 1, inplace = True)\n",
        "ieee.head(5)"
      ],
      "execution_count": 5,
      "outputs": [
        {
          "output_type": "execute_result",
          "data": {
            "text/html": [
              "<div>\n",
              "<style scoped>\n",
              "    .dataframe tbody tr th:only-of-type {\n",
              "        vertical-align: middle;\n",
              "    }\n",
              "\n",
              "    .dataframe tbody tr th {\n",
              "        vertical-align: top;\n",
              "    }\n",
              "\n",
              "    .dataframe thead th {\n",
              "        text-align: right;\n",
              "    }\n",
              "</style>\n",
              "<table border=\"1\" class=\"dataframe\">\n",
              "  <thead>\n",
              "    <tr style=\"text-align: right;\">\n",
              "      <th></th>\n",
              "      <th>id</th>\n",
              "      <th>author</th>\n",
              "      <th>abstract</th>\n",
              "      <th>booktitle</th>\n",
              "      <th>title</th>\n",
              "      <th>year</th>\n",
              "      <th>keywords</th>\n",
              "      <th>doi</th>\n",
              "      <th>ISSN</th>\n",
              "      <th>month</th>\n",
              "      <th>start</th>\n",
              "      <th>end</th>\n",
              "      <th>no_of_pages</th>\n",
              "    </tr>\n",
              "  </thead>\n",
              "  <tbody>\n",
              "    <tr>\n",
              "      <th>0</th>\n",
              "      <td>8862251</td>\n",
              "      <td>A Kumar, S Panda</td>\n",
              "      <td>This paper lights on Python amongst other diff...</td>\n",
              "      <td>2019 International Conference on Machine Learn...</td>\n",
              "      <td>A Survey: How Python Pitches in IT-World</td>\n",
              "      <td>2019</td>\n",
              "      <td>Python;multiparadigm language platform;Big Dat...</td>\n",
              "      <td>10.1109/COMITCon.2019.8862251</td>\n",
              "      <td>NaN</td>\n",
              "      <td>Feb</td>\n",
              "      <td>248.0</td>\n",
              "      <td>251.0</td>\n",
              "      <td>4.0</td>\n",
              "    </tr>\n",
              "    <tr>\n",
              "      <th>1</th>\n",
              "      <td>8462463</td>\n",
              "      <td>D Can, V Martinez, P Papadopoulos, S Narayanan</td>\n",
              "      <td>We present PyKaldi, a free and open-source Pyt...</td>\n",
              "      <td>2018 IEEE International Conference on Acoustic...</td>\n",
              "      <td>Pykaldi: A Python Wrapper for Kaldi</td>\n",
              "      <td>2018</td>\n",
              "      <td>authoring languages;public domain software;Pyt...</td>\n",
              "      <td>10.1109/ICASSP.2018.8462463</td>\n",
              "      <td>2379-190X</td>\n",
              "      <td>April</td>\n",
              "      <td>5889.0</td>\n",
              "      <td>5893.0</td>\n",
              "      <td>5.0</td>\n",
              "    </tr>\n",
              "    <tr>\n",
              "      <th>2</th>\n",
              "      <td>8952190</td>\n",
              "      <td>L Yu</td>\n",
              "      <td>In recent years, the extensive application of ...</td>\n",
              "      <td>2019 34th IEEE/ACM International Conference on...</td>\n",
              "      <td>Empirical Study of Python Call Graph</td>\n",
              "      <td>2019</td>\n",
              "      <td>graph theory;program diagnostics;Python;softwa...</td>\n",
              "      <td>10.1109/ASE.2019.00160</td>\n",
              "      <td>2643-1572</td>\n",
              "      <td>Nov</td>\n",
              "      <td>1274.0</td>\n",
              "      <td>1276.0</td>\n",
              "      <td>3.0</td>\n",
              "    </tr>\n",
              "    <tr>\n",
              "      <th>3</th>\n",
              "      <td>8506789</td>\n",
              "      <td>F Liu, Z Yang</td>\n",
              "      <td>A kind of automatic operation and maintenance ...</td>\n",
              "      <td>2018 International Conference on Advanced Mech...</td>\n",
              "      <td>Design of VMware vSphere Automatic Operation a...</td>\n",
              "      <td>2018</td>\n",
              "      <td>application program interfaces;cloud computing...</td>\n",
              "      <td>10.1109/ICAMechS.2018.8506789</td>\n",
              "      <td>2325-0690</td>\n",
              "      <td>Aug</td>\n",
              "      <td>283.0</td>\n",
              "      <td>286.0</td>\n",
              "      <td>4.0</td>\n",
              "    </tr>\n",
              "    <tr>\n",
              "      <th>4</th>\n",
              "      <td>8845524</td>\n",
              "      <td>X Liu, H Xu</td>\n",
              "      <td>To meet the needs of enterprises for data anal...</td>\n",
              "      <td>2019 14th International Conference on Computer...</td>\n",
              "      <td>School-Enterprise Cooperation on Python Data A...</td>\n",
              "      <td>2019</td>\n",
              "      <td>computer aided instruction;computer science ed...</td>\n",
              "      <td>10.1109/ICCSE.2019.8845524</td>\n",
              "      <td>2473-9464</td>\n",
              "      <td>Aug</td>\n",
              "      <td>278.0</td>\n",
              "      <td>281.0</td>\n",
              "      <td>4.0</td>\n",
              "    </tr>\n",
              "  </tbody>\n",
              "</table>\n",
              "</div>"
            ],
            "text/plain": [
              "        id                                          author  ...     end no_of_pages\n",
              "0  8862251                                A Kumar, S Panda  ...   251.0         4.0\n",
              "1  8462463  D Can, V Martinez, P Papadopoulos, S Narayanan  ...  5893.0         5.0\n",
              "2  8952190                                            L Yu  ...  1276.0         3.0\n",
              "3  8506789                                   F Liu, Z Yang  ...   286.0         4.0\n",
              "4  8845524                                     X Liu, H Xu  ...   281.0         4.0\n",
              "\n",
              "[5 rows x 13 columns]"
            ]
          },
          "metadata": {
            "tags": []
          },
          "execution_count": 5
        }
      ]
    },
    {
      "cell_type": "code",
      "metadata": {
        "id": "KbHLmbi4ZyBQ",
        "colab": {
          "base_uri": "https://localhost:8080/"
        },
        "outputId": "31cd97b8-36b2-47f3-c0f8-0b76339f31db"
      },
      "source": [
        "ieee.info()"
      ],
      "execution_count": 6,
      "outputs": [
        {
          "output_type": "stream",
          "text": [
            "<class 'pandas.core.frame.DataFrame'>\n",
            "RangeIndex: 50 entries, 0 to 49\n",
            "Data columns (total 13 columns):\n",
            " #   Column       Non-Null Count  Dtype  \n",
            "---  ------       --------------  -----  \n",
            " 0   id           50 non-null     int64  \n",
            " 1   author       50 non-null     object \n",
            " 2   abstract     50 non-null     object \n",
            " 3   booktitle    50 non-null     object \n",
            " 4   title        50 non-null     object \n",
            " 5   year         50 non-null     int64  \n",
            " 6   keywords     49 non-null     object \n",
            " 7   doi          48 non-null     object \n",
            " 8   ISSN         17 non-null     object \n",
            " 9   month        49 non-null     object \n",
            " 10  start        49 non-null     float64\n",
            " 11  end          49 non-null     float64\n",
            " 12  no_of_pages  49 non-null     float64\n",
            "dtypes: float64(3), int64(2), object(8)\n",
            "memory usage: 5.2+ KB\n"
          ],
          "name": "stdout"
        }
      ]
    },
    {
      "cell_type": "code",
      "metadata": {
        "id": "uDbc6qSVuVh-",
        "colab": {
          "base_uri": "https://localhost:8080/"
        },
        "outputId": "1f14c573-6805-4e3f-980b-52e77c665223"
      },
      "source": [
        "ieee['no_of_pages'].describe()"
      ],
      "execution_count": 7,
      "outputs": [
        {
          "output_type": "execute_result",
          "data": {
            "text/plain": [
              "count    49.000000\n",
              "mean      4.591837\n",
              "std       1.526411\n",
              "min       2.000000\n",
              "25%       4.000000\n",
              "50%       4.000000\n",
              "75%       5.000000\n",
              "max      10.000000\n",
              "Name: no_of_pages, dtype: float64"
            ]
          },
          "metadata": {
            "tags": []
          },
          "execution_count": 7
        }
      ]
    },
    {
      "cell_type": "code",
      "metadata": {
        "id": "6ChmdSh82-5Q",
        "colab": {
          "base_uri": "https://localhost:8080/",
          "height": 338
        },
        "outputId": "f23b162a-f211-4e89-a05f-56c651038cf7"
      },
      "source": [
        "sns.heatmap(ieee.isnull(),cmap='viridis',cbar='true')"
      ],
      "execution_count": 8,
      "outputs": [
        {
          "output_type": "execute_result",
          "data": {
            "text/plain": [
              "<matplotlib.axes._subplots.AxesSubplot at 0x7fd400cc2f98>"
            ]
          },
          "metadata": {
            "tags": []
          },
          "execution_count": 8
        },
        {
          "output_type": "display_data",
          "data": {
            "image/png": "[encoded data removed]",
            "text/plain": [
              "<Figure size 432x288 with 2 Axes>"
            ]
          },
          "metadata": {
            "tags": [],
            "needs_background": "light"
          }
        }
      ]
    },
    {
      "cell_type": "markdown",
      "metadata": {
        "id": "RW3V3gqgxfNB"
      },
      "source": [
        "**Inference** **:** This Heatmap shows that column ISSN contains majority of Null Values so it will not contibute towards analysis, it will be better to drop it."
      ]
    },
    {
      "cell_type": "code",
      "metadata": {
        "id": "-DH4nq3t3gNT",
        "colab": {
          "base_uri": "https://localhost:8080/",
          "height": 920
        },
        "outputId": "d6e3937f-623d-4878-fa05-9b6d883ed1ba"
      },
      "source": [
        "sns.pairplot(ieee) "
      ],
      "execution_count": 9,
      "outputs": [
        {
          "output_type": "execute_result",
          "data": {
            "text/plain": [
              "<seaborn.axisgrid.PairGrid at 0x7fd400d5db38>"
            ]
          },
          "metadata": {
            "tags": []
          },
          "execution_count": 9
        },
        {
          "output_type": "display_data",
          "data": {
            "image/png": "[encoded data removed]",
            "text/plain": [
              "<Figure size 900x900 with 30 Axes>"
            ]
          },
          "metadata": {
            "tags": [],
            "needs_background": "light"
          }
        }
      ]
    },
    {
      "cell_type": "markdown",
      "metadata": {
        "id": "yMy2ZNwNyJIF"
      },
      "source": [
        "I plot this pairplot to analyse relations between different numeric based columns."
      ]
    },
    {
      "cell_type": "code",
      "metadata": {
        "id": "EYCjR2uuaO1o",
        "colab": {
          "base_uri": "https://localhost:8080/",
          "height": 285
        },
        "outputId": "4573e0d6-a490-4948-b184-fe3f593d6c70"
      },
      "source": [
        "sns.set_theme(style=\"darkgrid\")\n",
        "ax = sns.countplot(x=\"month\", data=ieee)"
      ],
      "execution_count": 10,
      "outputs": [
        {
          "output_type": "display_data",
          "data": {
            "image/png": "[encoded data removed]",
            "text/plain": [
              "<Figure size 432x288 with 1 Axes>"
            ]
          },
          "metadata": {
            "tags": []
          }
        }
      ]
    },
    {
      "cell_type": "markdown",
      "metadata": {
        "id": "Y6x-rAQizie-"
      },
      "source": [
        "**Inference** : This Bar graph on the data sample shows that most papers in IEEE journal were published month of June & very less papers were published in month of Jan, Feb and October"
      ]
    },
    {
      "cell_type": "code",
      "metadata": {
        "id": "wV2mgQnwa9wM",
        "colab": {
          "base_uri": "https://localhost:8080/",
          "height": 285
        },
        "outputId": "09b3c558-04e4-4bd2-ea2f-55075d4aae7d"
      },
      "source": [
        "sns.set_theme(style=\"darkgrid\")\n",
        "ax = sns.countplot(x=\"year\", data=ieee)"
      ],
      "execution_count": 11,
      "outputs": [
        {
          "output_type": "display_data",
          "data": {
            "image/png": "[encoded data removed]",
            "text/plain": [
              "<Figure size 432x288 with 1 Axes>"
            ]
          },
          "metadata": {
            "tags": []
          }
        }
      ]
    },
    {
      "cell_type": "markdown",
      "metadata": {
        "id": "_wFLMrtO2HCf"
      },
      "source": [
        "**Inference :** This Bar graph on the data sample shows that majority of papers were published in year 2019. Very less no. of publications are there in year 2017"
      ]
    },
    {
      "cell_type": "code",
      "metadata": {
        "id": "zTkom9Hxh4xo",
        "colab": {
          "base_uri": "https://localhost:8080/",
          "height": 285
        },
        "outputId": "96ac65a5-b660-4ab5-cf38-12e6a10c8d08"
      },
      "source": [
        "sns.set_theme(style=\"darkgrid\")\n",
        "ax = sns.countplot(x=\"no_of_pages\", data=ieee)"
      ],
      "execution_count": 12,
      "outputs": [
        {
          "output_type": "display_data",
          "data": {
            "image/png": "[encoded data removed]",
            "text/plain": [
              "<Figure size 432x288 with 1 Axes>"
            ]
          },
          "metadata": {
            "tags": []
          }
        }
      ]
    },
    {
      "cell_type": "markdown",
      "metadata": {
        "id": "reHquzIt5qgS"
      },
      "source": [
        "**Inference :** This Count plot shows that majority of Research papers are of medium length with 4-5 pages."
      ]
    },
    {
      "cell_type": "code",
      "metadata": {
        "id": "-tAghx9RyYwS",
        "colab": {
          "base_uri": "https://localhost:8080/",
          "height": 565
        },
        "outputId": "839c0f94-38ce-49e2-f7e8-1af4205ba32c"
      },
      "source": [
        "df=pd.read_csv('Ieee_new.csv')\n",
        "df.head(5)"
      ],
      "execution_count": 13,
      "outputs": [
        {
          "output_type": "execute_result",
          "data": {
            "text/html": [
              "<div>\n",
              "<style scoped>\n",
              "    .dataframe tbody tr th:only-of-type {\n",
              "        vertical-align: middle;\n",
              "    }\n",
              "\n",
              "    .dataframe tbody tr th {\n",
              "        vertical-align: top;\n",
              "    }\n",
              "\n",
              "    .dataframe thead th {\n",
              "        text-align: right;\n",
              "    }\n",
              "</style>\n",
              "<table border=\"1\" class=\"dataframe\">\n",
              "  <thead>\n",
              "    <tr style=\"text-align: right;\">\n",
              "      <th></th>\n",
              "      <th>Unnamed: 0</th>\n",
              "      <th>id</th>\n",
              "      <th>author</th>\n",
              "      <th>abstract</th>\n",
              "      <th>booktitle</th>\n",
              "      <th>title</th>\n",
              "      <th>year</th>\n",
              "      <th>keywords</th>\n",
              "      <th>doi</th>\n",
              "      <th>ISSN</th>\n",
              "      <th>month</th>\n",
              "      <th>start</th>\n",
              "      <th>end</th>\n",
              "      <th>no_of_pages</th>\n",
              "    </tr>\n",
              "  </thead>\n",
              "  <tbody>\n",
              "    <tr>\n",
              "      <th>0</th>\n",
              "      <td>0</td>\n",
              "      <td>8862251</td>\n",
              "      <td>A Kumar, S Panda</td>\n",
              "      <td>This paper lights on Python amongst other diff...</td>\n",
              "      <td>2019 International Conference on Machine Learn...</td>\n",
              "      <td>A Survey: How Python Pitches in IT-World</td>\n",
              "      <td>2019</td>\n",
              "      <td>Python;multiparadigm language platform;Big Dat...</td>\n",
              "      <td>10.1109/COMITCon.2019.8862251</td>\n",
              "      <td>NaN</td>\n",
              "      <td>Feb</td>\n",
              "      <td>248.0</td>\n",
              "      <td>251.0</td>\n",
              "      <td>4.0</td>\n",
              "    </tr>\n",
              "    <tr>\n",
              "      <th>1</th>\n",
              "      <td>1</td>\n",
              "      <td>8462463</td>\n",
              "      <td>D Can, V Martinez, P Papadopoulos, S Narayanan</td>\n",
              "      <td>We present PyKaldi, a free and open-source Pyt...</td>\n",
              "      <td>2018 IEEE International Conference on Acoustic...</td>\n",
              "      <td>Pykaldi: A Python Wrapper for Kaldi</td>\n",
              "      <td>2018</td>\n",
              "      <td>authoring languages;public domain software;Pyt...</td>\n",
              "      <td>10.1109/ICASSP.2018.8462463</td>\n",
              "      <td>2379-190X</td>\n",
              "      <td>April</td>\n",
              "      <td>5889.0</td>\n",
              "      <td>5893.0</td>\n",
              "      <td>5.0</td>\n",
              "    </tr>\n",
              "    <tr>\n",
              "      <th>2</th>\n",
              "      <td>2</td>\n",
              "      <td>8952190</td>\n",
              "      <td>L Yu</td>\n",
              "      <td>In recent years, the extensive application of ...</td>\n",
              "      <td>2019 34th IEEE/ACM International Conference on...</td>\n",
              "      <td>Empirical Study of Python Call Graph</td>\n",
              "      <td>2019</td>\n",
              "      <td>graph theory;program diagnostics;Python;softwa...</td>\n",
              "      <td>10.1109/ASE.2019.00160</td>\n",
              "      <td>2643-1572</td>\n",
              "      <td>Nov</td>\n",
              "      <td>1274.0</td>\n",
              "      <td>1276.0</td>\n",
              "      <td>3.0</td>\n",
              "    </tr>\n",
              "    <tr>\n",
              "      <th>3</th>\n",
              "      <td>3</td>\n",
              "      <td>8506789</td>\n",
              "      <td>F Liu, Z Yang</td>\n",
              "      <td>A kind of automatic operation and maintenance ...</td>\n",
              "      <td>2018 International Conference on Advanced Mech...</td>\n",
              "      <td>Design of VMware vSphere Automatic Operation a...</td>\n",
              "      <td>2018</td>\n",
              "      <td>application program interfaces;cloud computing...</td>\n",
              "      <td>10.1109/ICAMechS.2018.8506789</td>\n",
              "      <td>2325-0690</td>\n",
              "      <td>Aug</td>\n",
              "      <td>283.0</td>\n",
              "      <td>286.0</td>\n",
              "      <td>4.0</td>\n",
              "    </tr>\n",
              "    <tr>\n",
              "      <th>4</th>\n",
              "      <td>4</td>\n",
              "      <td>8845524</td>\n",
              "      <td>X Liu, H Xu</td>\n",
              "      <td>To meet the needs of enterprises for data anal...</td>\n",
              "      <td>2019 14th International Conference on Computer...</td>\n",
              "      <td>School-Enterprise Cooperation on Python Data A...</td>\n",
              "      <td>2019</td>\n",
              "      <td>computer aided instruction;computer science ed...</td>\n",
              "      <td>10.1109/ICCSE.2019.8845524</td>\n",
              "      <td>2473-9464</td>\n",
              "      <td>Aug</td>\n",
              "      <td>278.0</td>\n",
              "      <td>281.0</td>\n",
              "      <td>4.0</td>\n",
              "    </tr>\n",
              "  </tbody>\n",
              "</table>\n",
              "</div>"
            ],
            "text/plain": [
              "   Unnamed: 0       id  ...     end no_of_pages\n",
              "0           0  8862251  ...   251.0         4.0\n",
              "1           1  8462463  ...  5893.0         5.0\n",
              "2           2  8952190  ...  1276.0         3.0\n",
              "3           3  8506789  ...   286.0         4.0\n",
              "4           4  8845524  ...   281.0         4.0\n",
              "\n",
              "[5 rows x 14 columns]"
            ]
          },
          "metadata": {
            "tags": []
          },
          "execution_count": 13
        }
      ]
    },
    {
      "cell_type": "code",
      "metadata": {
        "id": "3Oy-nRBhya-P"
      },
      "source": [
        "df['keywords'] = df['keywords'].astype(str)\n",
        "count=df.keywords.apply(lambda x: pd.value_counts(x.split(\";\"))).sum(axis = 0)\n",
        "count.to_csv('keyword.csv')"
      ],
      "execution_count": 14,
      "outputs": []
    },
    {
      "cell_type": "code",
      "metadata": {
        "id": "zQQDxVubyl9e"
      },
      "source": [
        "df['author']=df['author'].astype(str)\n",
        "count_auth=df.author.apply(lambda x: pd.value_counts(x.split(\",\"))).sum(axis = 0)\n",
        "count_auth.to_csv('author.csv')"
      ],
      "execution_count": 15,
      "outputs": []
    },
    {
      "cell_type": "code",
      "metadata": {
        "id": "s5q7wXhLdBjJ"
      },
      "source": [
        "auth = pd.read_csv('author.csv')\n",
        "keyword = pd.read_csv('keyword.csv')"
      ],
      "execution_count": 16,
      "outputs": []
    },
    {
      "cell_type": "code",
      "metadata": {
        "id": "tlqzHWQhdG0d",
        "colab": {
          "base_uri": "https://localhost:8080/",
          "height": 195
        },
        "outputId": "15d51763-5ee0-4d3e-eef1-01d31370205b"
      },
      "source": [
        "auth.rename( columns={'Unnamed: 0':'authors'}, inplace=True )\n",
        "auth.rename( columns={'0':'no of publications'}, inplace=True )\n",
        "auth.head(5)"
      ],
      "execution_count": 17,
      "outputs": [
        {
          "output_type": "execute_result",
          "data": {
            "text/html": [
              "<div>\n",
              "<style scoped>\n",
              "    .dataframe tbody tr th:only-of-type {\n",
              "        vertical-align: middle;\n",
              "    }\n",
              "\n",
              "    .dataframe tbody tr th {\n",
              "        vertical-align: top;\n",
              "    }\n",
              "\n",
              "    .dataframe thead th {\n",
              "        text-align: right;\n",
              "    }\n",
              "</style>\n",
              "<table border=\"1\" class=\"dataframe\">\n",
              "  <thead>\n",
              "    <tr style=\"text-align: right;\">\n",
              "      <th></th>\n",
              "      <th>authors</th>\n",
              "      <th>no of publications</th>\n",
              "    </tr>\n",
              "  </thead>\n",
              "  <tbody>\n",
              "    <tr>\n",
              "      <th>0</th>\n",
              "      <td>S Panda</td>\n",
              "      <td>1.0</td>\n",
              "    </tr>\n",
              "    <tr>\n",
              "      <th>1</th>\n",
              "      <td>A Kumar</td>\n",
              "      <td>1.0</td>\n",
              "    </tr>\n",
              "    <tr>\n",
              "      <th>2</th>\n",
              "      <td>P Papadopoulos</td>\n",
              "      <td>1.0</td>\n",
              "    </tr>\n",
              "    <tr>\n",
              "      <th>3</th>\n",
              "      <td>V Martinez</td>\n",
              "      <td>1.0</td>\n",
              "    </tr>\n",
              "    <tr>\n",
              "      <th>4</th>\n",
              "      <td>S Narayanan</td>\n",
              "      <td>1.0</td>\n",
              "    </tr>\n",
              "  </tbody>\n",
              "</table>\n",
              "</div>"
            ],
            "text/plain": [
              "           authors  no of publications\n",
              "0          S Panda                 1.0\n",
              "1          A Kumar                 1.0\n",
              "2   P Papadopoulos                 1.0\n",
              "3       V Martinez                 1.0\n",
              "4      S Narayanan                 1.0"
            ]
          },
          "metadata": {
            "tags": []
          },
          "execution_count": 17
        }
      ]
    },
    {
      "cell_type": "code",
      "metadata": {
        "id": "UDO9mBMSdJYA",
        "colab": {
          "base_uri": "https://localhost:8080/",
          "height": 302
        },
        "outputId": "49e601d3-4d8b-4931-ceb1-4d11891f3231"
      },
      "source": [
        "sns.set_theme(style=\"darkgrid\")\n",
        "sns.countplot(y=\"no of publications\", data=auth)"
      ],
      "execution_count": 18,
      "outputs": [
        {
          "output_type": "execute_result",
          "data": {
            "text/plain": [
              "<matplotlib.axes._subplots.AxesSubplot at 0x7fd3fb060e10>"
            ]
          },
          "metadata": {
            "tags": []
          },
          "execution_count": 18
        },
        {
          "output_type": "display_data",
          "data": {
            "image/png": "[encoded data removed]",
            "text/plain": [
              "<Figure size 432x288 with 1 Axes>"
            ]
          },
          "metadata": {
            "tags": []
          }
        }
      ]
    },
    {
      "cell_type": "markdown",
      "metadata": {
        "id": "gdCuXUnw9op4"
      },
      "source": [
        "**Inference :** This graph clearly shows that this data sample contains mostly publishers with one publications in IEEE journal between year 2017 to 2020."
      ]
    },
    {
      "cell_type": "code",
      "metadata": {
        "id": "1d5jL-R3dXsa",
        "colab": {
          "base_uri": "https://localhost:8080/",
          "height": 195
        },
        "outputId": "9084af75-c313-4a17-d767-e09213afcfd4"
      },
      "source": [
        "keyword.rename( columns={'Unnamed: 0':'words'}, inplace=True )\n",
        "keyword.rename( columns={'0':'keyword counts'}, inplace=True )\n",
        "keyword.head()"
      ],
      "execution_count": 19,
      "outputs": [
        {
          "output_type": "execute_result",
          "data": {
            "text/html": [
              "<div>\n",
              "<style scoped>\n",
              "    .dataframe tbody tr th:only-of-type {\n",
              "        vertical-align: middle;\n",
              "    }\n",
              "\n",
              "    .dataframe tbody tr th {\n",
              "        vertical-align: top;\n",
              "    }\n",
              "\n",
              "    .dataframe thead th {\n",
              "        text-align: right;\n",
              "    }\n",
              "</style>\n",
              "<table border=\"1\" class=\"dataframe\">\n",
              "  <thead>\n",
              "    <tr style=\"text-align: right;\">\n",
              "      <th></th>\n",
              "      <th>words</th>\n",
              "      <th>keyword counts</th>\n",
              "    </tr>\n",
              "  </thead>\n",
              "  <tbody>\n",
              "    <tr>\n",
              "      <th>0</th>\n",
              "      <td>Python</td>\n",
              "      <td>114.0</td>\n",
              "    </tr>\n",
              "    <tr>\n",
              "      <th>1</th>\n",
              "      <td>Sentiment analysis</td>\n",
              "      <td>1.0</td>\n",
              "    </tr>\n",
              "    <tr>\n",
              "      <th>2</th>\n",
              "      <td>Big Data</td>\n",
              "      <td>1.0</td>\n",
              "    </tr>\n",
              "    <tr>\n",
              "      <th>3</th>\n",
              "      <td>Data structures</td>\n",
              "      <td>1.0</td>\n",
              "    </tr>\n",
              "    <tr>\n",
              "      <th>4</th>\n",
              "      <td>Programming</td>\n",
              "      <td>4.0</td>\n",
              "    </tr>\n",
              "  </tbody>\n",
              "</table>\n",
              "</div>"
            ],
            "text/plain": [
              "                words  keyword counts\n",
              "0              Python           114.0\n",
              "1  Sentiment analysis             1.0\n",
              "2            Big Data             1.0\n",
              "3     Data structures             1.0\n",
              "4         Programming             4.0"
            ]
          },
          "metadata": {
            "tags": []
          },
          "execution_count": 19
        }
      ]
    },
    {
      "cell_type": "code",
      "metadata": {
        "id": "pkk6CWZ-kyeZ",
        "colab": {
          "base_uri": "https://localhost:8080/",
          "height": 411
        },
        "outputId": "85668b01-0a86-4685-92b8-163e56b85507"
      },
      "source": [
        "sns.set_theme(style=\"darkgrid\")\n",
        "fig_dims = (8, 6)\n",
        "\n",
        "fig, ax = plt.subplots(figsize=fig_dims)\n",
        "sns.countplot(y=\"keyword counts\",ax=ax, data=keyword)"
      ],
      "execution_count": 20,
      "outputs": [
        {
          "output_type": "execute_result",
          "data": {
            "text/plain": [
              "<matplotlib.axes._subplots.AxesSubplot at 0x7fd3fafe9e80>"
            ]
          },
          "metadata": {
            "tags": []
          },
          "execution_count": 20
        },
        {
          "output_type": "display_data",
          "data": {
            "image/png": "[encoded data removed]",
            "text/plain": [
              "<Figure size 576x432 with 1 Axes>"
            ]
          },
          "metadata": {
            "tags": []
          }
        }
      ]
    },
    {
      "cell_type": "markdown",
      "metadata": {
        "id": "qIpnMBek_xN-"
      },
      "source": [
        "**Inference :** This graph shows the no. of occurances for different keywords. For example there are around 700-800 keyword which occur only 1 time and less then 10 keyword which occur 4 times. "
      ]
    }
  ]
}