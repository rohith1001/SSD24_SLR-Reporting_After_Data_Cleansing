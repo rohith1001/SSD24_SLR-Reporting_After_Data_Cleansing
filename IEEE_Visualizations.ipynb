{
  "nbformat": 4,
  "nbformat_minor": 0,
  "metadata": {
    "colab": {
      "name": "IEEE_Visualizations.ipynb",
      "provenance": []
    },
    "kernelspec": {
      "name": "python3",
      "display_name": "Python 3"
    }
  },
  "cells": [
    {
      "cell_type": "code",
      "metadata": {
        "id": "OTylV3KCZEE2"
      },
      "source": [
        "import pandas as pd\n",
        "import matplotlib.pyplot as plt\n",
        "import seaborn as sns"
      ],
      "execution_count": 1,
      "outputs": []
    },
    {
      "cell_type": "code",
      "metadata": {
        "id": "_SCBip3Jo45D",
        "colab": {
          "base_uri": "https://localhost:8080/",
          "height": 69
        },
        "outputId": "a3bf1c50-df8a-443a-de3b-64788750f0f9"
      },
      "source": [
        "'''df = pd.read_csv(\"ieee.csv\")\n",
        "df1 = pd.read_csv(\"IEEE.csv\")\n",
        "df['month']= df1['month']\n",
        "df.iloc[49, df.columns.get_loc('month')] = 'Dec'\n",
        "df.iloc[48, df.columns.get_loc('month')] = 'Feb'\n",
        "df.iloc[47, df.columns.get_loc('month')] = 'May'\n",
        "\n",
        "df.tail()'''"
      ],
      "execution_count": 2,
      "outputs": [
        {
          "output_type": "execute_result",
          "data": {
            "application/vnd.google.colaboratory.intrinsic+json": {
              "type": "string"
            },
            "text/plain": [
              "'df = pd.read_csv(\"ieee.csv\")\\ndf1 = pd.read_csv(\"IEEE.csv\")\\ndf[\\'month\\']= df1[\\'month\\']\\ndf.iloc[49, df.columns.get_loc(\\'month\\')] = \\'Dec\\'\\ndf.iloc[48, df.columns.get_loc(\\'month\\')] = \\'Feb\\'\\ndf.iloc[47, df.columns.get_loc(\\'month\\')] = \\'May\\'\\n\\ndf.tail()'"
            ]
          },
          "metadata": {
            "tags": []
          },
          "execution_count": 2
        }
      ]
    },
    {
      "cell_type": "code",
      "metadata": {
        "id": "BbxorF1ZZfLf",
        "colab": {
          "base_uri": "https://localhost:8080/",
          "height": 86
        },
        "outputId": "06e13f04-d137-4a70-ff35-b6f5e6f5582d"
      },
      "source": [
        "'''df.drop(df.columns[df.columns.str.contains('unnamed',case = False)],axis = 1, inplace = True)\n",
        "df2 = df.drop(['number', 'volume'], axis=1)\n",
        "\n",
        "df2[['start','end']] = df2.pages.str.split(\"-\",expand=True)\n",
        "df2[['start', 'end']] = df2[['start', 'end']].apply(pd.to_numeric) \n",
        "df2['no_of_pages'] = df2['end'] - df2['start'] + 1\n",
        "ieee = df2.drop(['pages'], axis=1)\n",
        "ieee.head(50)'''"
      ],
      "execution_count": 3,
      "outputs": [
        {
          "output_type": "execute_result",
          "data": {
            "application/vnd.google.colaboratory.intrinsic+json": {
              "type": "string"
            },
            "text/plain": [
              "'df.drop(df.columns[df.columns.str.contains(\\'unnamed\\',case = False)],axis = 1, inplace = True)\\ndf2 = df.drop([\\'number\\', \\'volume\\'], axis=1)\\n\\ndf2[[\\'start\\',\\'end\\']] = df2.pages.str.split(\"-\",expand=True)\\ndf2[[\\'start\\', \\'end\\']] = df2[[\\'start\\', \\'end\\']].apply(pd.to_numeric) \\ndf2[\\'no_of_pages\\'] = df2[\\'end\\'] - df2[\\'start\\'] + 1\\nieee = df2.drop([\\'pages\\'], axis=1)\\nieee.head(50)'"
            ]
          },
          "metadata": {
            "tags": []
          },
          "execution_count": 3
        }
      ]
    },
    {
      "cell_type": "code",
      "metadata": {
        "id": "c8xIT-h7zCPw",
        "colab": {
          "base_uri": "https://localhost:8080/",
          "height": 35
        },
        "outputId": "20e320ed-39a2-453d-843b-c71e930c9a05"
      },
      "source": [
        "'''ieee.to_csv('Ieee_new.csv')'''"
      ],
      "execution_count": 4,
      "outputs": [
        {
          "output_type": "execute_result",
          "data": {
            "application/vnd.google.colaboratory.intrinsic+json": {
              "type": "string"
            },
            "text/plain": [
              "\"ieee.to_csv('Ieee_new.csv')\""
            ]
          },
          "metadata": {
            "tags": []
          },
          "execution_count": 4
        }
      ]
    },
    {
      "cell_type": "code",
      "metadata": {
        "id": "E4eXq4XlzZjf",
        "colab": {
          "base_uri": "https://localhost:8080/",
          "height": 568
        },
        "outputId": "863b6826-8511-4654-d0ef-14fba206a417"
      },
      "source": [
        "ieee = pd.read_csv('Ieee_new.csv')\n",
        "ieee.drop(ieee.columns[ieee.columns.str.contains('unnamed',case = False)],axis = 1, inplace = True)\n",
        "ieee.head(5)"
      ],
      "execution_count": 5,
      "outputs": [
        {
          "output_type": "execute_result",
          "data": {
            "text/html": [
              "<div>\n",
              "<style scoped>\n",
              "    .dataframe tbody tr th:only-of-type {\n",
              "        vertical-align: middle;\n",
              "    }\n",
              "\n",
              "    .dataframe tbody tr th {\n",
              "        vertical-align: top;\n",
              "    }\n",
              "\n",
              "    .dataframe thead th {\n",
              "        text-align: right;\n",
              "    }\n",
              "</style>\n",
              "<table border=\"1\" class=\"dataframe\">\n",
              "  <thead>\n",
              "    <tr style=\"text-align: right;\">\n",
              "      <th></th>\n",
              "      <th>id</th>\n",
              "      <th>author</th>\n",
              "      <th>abstract</th>\n",
              "      <th>booktitle</th>\n",
              "      <th>title</th>\n",
              "      <th>year</th>\n",
              "      <th>keywords</th>\n",
              "      <th>doi</th>\n",
              "      <th>ISSN</th>\n",
              "      <th>month</th>\n",
              "      <th>start</th>\n",
              "      <th>end</th>\n",
              "      <th>no_of_pages</th>\n",
              "    </tr>\n",
              "  </thead>\n",
              "  <tbody>\n",
              "    <tr>\n",
              "      <th>0</th>\n",
              "      <td>8862251</td>\n",
              "      <td>A Kumar, S Panda</td>\n",
              "      <td>This paper lights on Python amongst other diff...</td>\n",
              "      <td>2019 International Conference on Machine Learn...</td>\n",
              "      <td>A Survey: How Python Pitches in IT-World</td>\n",
              "      <td>2019</td>\n",
              "      <td>Python;multiparadigm language platform;Big Dat...</td>\n",
              "      <td>10.1109/COMITCon.2019.8862251</td>\n",
              "      <td>NaN</td>\n",
              "      <td>Feb</td>\n",
              "      <td>248.0</td>\n",
              "      <td>251.0</td>\n",
              "      <td>4.0</td>\n",
              "    </tr>\n",
              "    <tr>\n",
              "      <th>1</th>\n",
              "      <td>8462463</td>\n",
              "      <td>D Can, V Martinez, P Papadopoulos, S Narayanan</td>\n",
              "      <td>We present PyKaldi, a free and open-source Pyt...</td>\n",
              "      <td>2018 IEEE International Conference on Acoustic...</td>\n",
              "      <td>Pykaldi: A Python Wrapper for Kaldi</td>\n",
              "      <td>2018</td>\n",
              "      <td>authoring languages;public domain software;Pyt...</td>\n",
              "      <td>10.1109/ICASSP.2018.8462463</td>\n",
              "      <td>2379-190X</td>\n",
              "      <td>April</td>\n",
              "      <td>5889.0</td>\n",
              "      <td>5893.0</td>\n",
              "      <td>5.0</td>\n",
              "    </tr>\n",
              "    <tr>\n",
              "      <th>2</th>\n",
              "      <td>8952190</td>\n",
              "      <td>L Yu</td>\n",
              "      <td>In recent years, the extensive application of ...</td>\n",
              "      <td>2019 34th IEEE/ACM International Conference on...</td>\n",
              "      <td>Empirical Study of Python Call Graph</td>\n",
              "      <td>2019</td>\n",
              "      <td>graph theory;program diagnostics;Python;softwa...</td>\n",
              "      <td>10.1109/ASE.2019.00160</td>\n",
              "      <td>2643-1572</td>\n",
              "      <td>Nov</td>\n",
              "      <td>1274.0</td>\n",
              "      <td>1276.0</td>\n",
              "      <td>3.0</td>\n",
              "    </tr>\n",
              "    <tr>\n",
              "      <th>3</th>\n",
              "      <td>8506789</td>\n",
              "      <td>F Liu, Z Yang</td>\n",
              "      <td>A kind of automatic operation and maintenance ...</td>\n",
              "      <td>2018 International Conference on Advanced Mech...</td>\n",
              "      <td>Design of VMware vSphere Automatic Operation a...</td>\n",
              "      <td>2018</td>\n",
              "      <td>application program interfaces;cloud computing...</td>\n",
              "      <td>10.1109/ICAMechS.2018.8506789</td>\n",
              "      <td>2325-0690</td>\n",
              "      <td>Aug</td>\n",
              "      <td>283.0</td>\n",
              "      <td>286.0</td>\n",
              "      <td>4.0</td>\n",
              "    </tr>\n",
              "    <tr>\n",
              "      <th>4</th>\n",
              "      <td>8845524</td>\n",
              "      <td>X Liu, H Xu</td>\n",
              "      <td>To meet the needs of enterprises for data anal...</td>\n",
              "      <td>2019 14th International Conference on Computer...</td>\n",
              "      <td>School-Enterprise Cooperation on Python Data A...</td>\n",
              "      <td>2019</td>\n",
              "      <td>computer aided instruction;computer science ed...</td>\n",
              "      <td>10.1109/ICCSE.2019.8845524</td>\n",
              "      <td>2473-9464</td>\n",
              "      <td>Aug</td>\n",
              "      <td>278.0</td>\n",
              "      <td>281.0</td>\n",
              "      <td>4.0</td>\n",
              "    </tr>\n",
              "  </tbody>\n",
              "</table>\n",
              "</div>"
            ],
            "text/plain": [
              "        id                                          author  ...     end no_of_pages\n",
              "0  8862251                                A Kumar, S Panda  ...   251.0         4.0\n",
              "1  8462463  D Can, V Martinez, P Papadopoulos, S Narayanan  ...  5893.0         5.0\n",
              "2  8952190                                            L Yu  ...  1276.0         3.0\n",
              "3  8506789                                   F Liu, Z Yang  ...   286.0         4.0\n",
              "4  8845524                                     X Liu, H Xu  ...   281.0         4.0\n",
              "\n",
              "[5 rows x 13 columns]"
            ]
          },
          "metadata": {
            "tags": []
          },
          "execution_count": 5
        }
      ]
    }
  ]
}