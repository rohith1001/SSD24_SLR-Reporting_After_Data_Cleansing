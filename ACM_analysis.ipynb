{
  "nbformat": 4,
  "nbformat_minor": 0,
  "metadata": {
    "colab": {
      "name": "ACM_analysis.ipynb",
      "provenance": []
    },
    "kernelspec": {
      "name": "python3",
      "display_name": "Python 3"
    }
  },
  "cells": [
    {
      "cell_type": "code",
      "metadata": {
        "id": "Z-xvQh0JZU3o"
      },
      "source": [
        "import pandas as pd"
      ],
      "execution_count": 1,
      "outputs": []
    },
    {
      "cell_type": "code",
      "metadata": {
        "colab": {
          "base_uri": "https://localhost:8080/",
          "height": 574
        },
        "id": "LWvrdAwhY2Nj",
        "outputId": "cf6d6ceb-3962-4896-f0eb-fd3cecf458cd"
      },
      "source": [
        "acm = pd.read_csv('ACM.csv')\n",
        "acm.drop(acm.columns[acm.columns.str.contains('unnamed',case = False)],axis = 1, inplace = True)\n",
        "acm.head(5)"
      ],
      "execution_count": 2,
      "outputs": [
        {
          "output_type": "execute_result",
          "data": {
            "text/html": [
              "<div>\n",
              "<style scoped>\n",
              "    .dataframe tbody tr th:only-of-type {\n",
              "        vertical-align: middle;\n",
              "    }\n",
              "\n",
              "    .dataframe tbody tr th {\n",
              "        vertical-align: top;\n",
              "    }\n",
              "\n",
              "    .dataframe thead th {\n",
              "        text-align: right;\n",
              "    }\n",
              "</style>\n",
              "<table border=\"1\" class=\"dataframe\">\n",
              "  <thead>\n",
              "    <tr style=\"text-align: right;\">\n",
              "      <th></th>\n",
              "      <th>id</th>\n",
              "      <th>author</th>\n",
              "      <th>abstract</th>\n",
              "      <th>booktitle</th>\n",
              "      <th>title</th>\n",
              "      <th>year</th>\n",
              "      <th>volume</th>\n",
              "      <th>number</th>\n",
              "      <th>pages</th>\n",
              "      <th>keywords</th>\n",
              "      <th>doi</th>\n",
              "      <th>ISSN</th>\n",
              "      <th>months</th>\n",
              "      <th>isbn</th>\n",
              "      <th>publisher</th>\n",
              "      <th>address</th>\n",
              "      <th>url</th>\n",
              "      <th>numpages</th>\n",
              "      <th>location</th>\n",
              "      <th>series</th>\n",
              "    </tr>\n",
              "  </thead>\n",
              "  <tbody>\n",
              "    <tr>\n",
              "      <th>0</th>\n",
              "      <td>10.1145/2384716.2384763</td>\n",
              "      <td>Shams Imam</td>\n",
              "      <td>We present CnC-Python (CP), an approach to imp...</td>\n",
              "      <td>Proceedings of the 3rd Annual Conference on Sy...</td>\n",
              "      <td>CnC-Python: Multicore Programming with High Pr...</td>\n",
              "      <td>2012</td>\n",
              "      <td>NaN</td>\n",
              "      <td>NaN</td>\n",
              "      <td>111–112</td>\n",
              "      <td>cnc-python, parallel programming, concurrent c...</td>\n",
              "      <td>10.1145/2384716.2384763</td>\n",
              "      <td>NaN</td>\n",
              "      <td>NaN</td>\n",
              "      <td>9781450315630</td>\n",
              "      <td>Association for Computing Machinery</td>\n",
              "      <td>New York, NY, USA</td>\n",
              "      <td>https://doi.org/10.1145/2384716.2384763</td>\n",
              "      <td>2</td>\n",
              "      <td>Tucson, Arizona, USA</td>\n",
              "      <td>SPLASH '12</td>\n",
              "    </tr>\n",
              "    <tr>\n",
              "      <th>1</th>\n",
              "      <td>10.1145/2635648.2635660</td>\n",
              "      <td>Pedro Ramos, Antonio Leitao</td>\n",
              "      <td>Racket is a descendant of Scheme, a language t...</td>\n",
              "      <td>Proceedings of ILC 2014 on 8th International L...</td>\n",
              "      <td>Reaching Python from Racket</td>\n",
              "      <td>2014</td>\n",
              "      <td>NaN</td>\n",
              "      <td>NaN</td>\n",
              "      <td>32–38</td>\n",
              "      <td>Interoperability, Racket, Python</td>\n",
              "      <td>10.1145/2635648.2635660</td>\n",
              "      <td>NaN</td>\n",
              "      <td>NaN</td>\n",
              "      <td>9781450329316</td>\n",
              "      <td>Association for Computing Machinery</td>\n",
              "      <td>New York, NY, USA</td>\n",
              "      <td>https://doi.org/10.1145/2635648.2635660</td>\n",
              "      <td>7</td>\n",
              "      <td>Montreal, QC, Canada</td>\n",
              "      <td>ILC '14</td>\n",
              "    </tr>\n",
              "    <tr>\n",
              "      <th>2</th>\n",
              "      <td>10.5555/2188385.2343710</td>\n",
              "      <td>Tom De Smedt, Walter Daelemans</td>\n",
              "      <td>Pattern is a package for Python 2.4+ with func...</td>\n",
              "      <td>NaN</td>\n",
              "      <td>Pattern for Python</td>\n",
              "      <td>2012</td>\n",
              "      <td>13.0</td>\n",
              "      <td>NaN</td>\n",
              "      <td>2063–2067</td>\n",
              "      <td>python, data mining, machine learning, graph n...</td>\n",
              "      <td>NaN</td>\n",
              "      <td>1532-4435</td>\n",
              "      <td>June</td>\n",
              "      <td>NaN</td>\n",
              "      <td>JMLR.org</td>\n",
              "      <td>NaN</td>\n",
              "      <td>NaN</td>\n",
              "      <td>5</td>\n",
              "      <td>NaN</td>\n",
              "      <td>NaN</td>\n",
              "    </tr>\n",
              "    <tr>\n",
              "      <th>3</th>\n",
              "      <td>10.1145/611892.611996</td>\n",
              "      <td>Douglas Blank, Lisa Meeden, Deepak Kumar</td>\n",
              "      <td>This paper describes Pyro, a robotics programm...</td>\n",
              "      <td>Proceedings of the 34th SIGCSE Technical Sympo...</td>\n",
              "      <td>Python Robotics: An Environment for Exploring ...</td>\n",
              "      <td>2003</td>\n",
              "      <td>NaN</td>\n",
              "      <td>NaN</td>\n",
              "      <td>317–321</td>\n",
              "      <td>robotics, pedagogy, python</td>\n",
              "      <td>10.1145/611892.611996</td>\n",
              "      <td>NaN</td>\n",
              "      <td>NaN</td>\n",
              "      <td>158113648X</td>\n",
              "      <td>Association for Computing Machinery</td>\n",
              "      <td>New York, NY, USA</td>\n",
              "      <td>https://doi.org/10.1145/611892.611996</td>\n",
              "      <td>5</td>\n",
              "      <td>Reno, Navada, USA</td>\n",
              "      <td>SIGCSE '03</td>\n",
              "    </tr>\n",
              "    <tr>\n",
              "      <th>4</th>\n",
              "      <td>10.1145/792548.611996</td>\n",
              "      <td>Douglas Blank, Lisa Meeden, Deepak Kumar</td>\n",
              "      <td>This paper describes Pyro, a robotics programm...</td>\n",
              "      <td>NaN</td>\n",
              "      <td>Python Robotics: An Environment for Exploring ...</td>\n",
              "      <td>2003</td>\n",
              "      <td>35.0</td>\n",
              "      <td>1.0</td>\n",
              "      <td>317–321</td>\n",
              "      <td>python, robotics, pedagogy</td>\n",
              "      <td>10.1145/792548.611996</td>\n",
              "      <td>0097-8418</td>\n",
              "      <td>January</td>\n",
              "      <td>NaN</td>\n",
              "      <td>Association for Computing Machinery</td>\n",
              "      <td>New York, NY, USA</td>\n",
              "      <td>https://doi.org/10.1145/792548.611996</td>\n",
              "      <td>5</td>\n",
              "      <td>NaN</td>\n",
              "      <td>NaN</td>\n",
              "    </tr>\n",
              "  </tbody>\n",
              "</table>\n",
              "</div>"
            ],
            "text/plain": [
              "                        id  ...      series\n",
              "0  10.1145/2384716.2384763  ...  SPLASH '12\n",
              "1  10.1145/2635648.2635660  ...     ILC '14\n",
              "2  10.5555/2188385.2343710  ...         NaN\n",
              "3    10.1145/611892.611996  ...  SIGCSE '03\n",
              "4    10.1145/792548.611996  ...         NaN\n",
              "\n",
              "[5 rows x 20 columns]"
            ]
          },
          "metadata": {
            "tags": []
          },
          "execution_count": 2
        }
      ]
    },
    {
      "cell_type": "code",
      "metadata": {
        "colab": {
          "base_uri": "https://localhost:8080/"
        },
        "id": "Wsnhw2V9Zdgt",
        "outputId": "bb1fe45f-0b1a-4c31-b953-c4e8f4beeb72"
      },
      "source": [
        "acm.info()"
      ],
      "execution_count": 3,
      "outputs": [
        {
          "output_type": "stream",
          "text": [
            "<class 'pandas.core.frame.DataFrame'>\n",
            "RangeIndex: 58 entries, 0 to 57\n",
            "Data columns (total 20 columns):\n",
            " #   Column     Non-Null Count  Dtype  \n",
            "---  ------     --------------  -----  \n",
            " 0   id         58 non-null     object \n",
            " 1   author     58 non-null     object \n",
            " 2   abstract   58 non-null     object \n",
            " 3   booktitle  46 non-null     object \n",
            " 4   title      58 non-null     object \n",
            " 5   year       58 non-null     int64  \n",
            " 6   volume     12 non-null     float64\n",
            " 7   number     11 non-null     float64\n",
            " 8   pages      47 non-null     object \n",
            " 9   keywords   57 non-null     object \n",
            " 10  doi        54 non-null     object \n",
            " 11  ISSN       12 non-null     object \n",
            " 12  months     12 non-null     object \n",
            " 13  isbn       43 non-null     object \n",
            " 14  publisher  58 non-null     object \n",
            " 15  address    50 non-null     object \n",
            " 16  url        54 non-null     object \n",
            " 17  numpages   58 non-null     int64  \n",
            " 18  location   46 non-null     object \n",
            " 19  series     46 non-null     object \n",
            "dtypes: float64(2), int64(2), object(16)\n",
            "memory usage: 9.2+ KB\n"
          ],
          "name": "stdout"
        }
      ]
    },
    {
      "cell_type": "code",
      "metadata": {
        "colab": {
          "base_uri": "https://localhost:8080/"
        },
        "id": "A26MkFp0ZROX",
        "outputId": "434b0e98-ef67-4281-c336-ae54c123cf2c"
      },
      "source": [
        "acm['numpages'].describe()"
      ],
      "execution_count": 4,
      "outputs": [
        {
          "output_type": "execute_result",
          "data": {
            "text/plain": [
              "count    58.000000\n",
              "mean      6.965517\n",
              "std       4.499378\n",
              "min       1.000000\n",
              "25%       5.000000\n",
              "50%       6.000000\n",
              "75%       8.750000\n",
              "max      25.000000\n",
              "Name: numpages, dtype: float64"
            ]
          },
          "metadata": {
            "tags": []
          },
          "execution_count": 4
        }
      ]
    },
    {
      "cell_type": "code",
      "metadata": {
        "id": "GgnWMlQRaNwa"
      },
      "source": [
        "import seaborn as sns\n",
        "import numpy as np\n",
        "import missingno as msno\n"
      ],
      "execution_count": 5,
      "outputs": []
    },
    {
      "cell_type": "code",
      "metadata": {
        "colab": {
          "base_uri": "https://localhost:8080/",
          "height": 329
        },
        "id": "vgVQiEi5bBM4",
        "outputId": "91a6ca0d-d6c8-4ceb-ccd4-efd3911dc0a7"
      },
      "source": [
        "sns.heatmap(acm.isnull(),cmap='viridis',cbar='true')\n"
      ],
      "execution_count": 6,
      "outputs": [
        {
          "output_type": "execute_result",
          "data": {
            "text/plain": [
              "<matplotlib.axes._subplots.AxesSubplot at 0x7f6fac307358>"
            ]
          },
          "metadata": {
            "tags": []
          },
          "execution_count": 6
        },
        {
          "output_type": "display_data",
          "data": {
            "image/png": "[encoded data removed]",
            "text/plain": [
              "<Figure size 432x288 with 2 Axes>"
            ]
          },
          "metadata": {
            "tags": [],
            "needs_background": "light"
          }
        }
      ]
    },
    {
      "cell_type": "code",
      "metadata": {
        "id": "qrDnVHhwbLJI"
      },
      "source": [
        "acm = acm.drop(['number', 'volume','ISSN','months'], axis=1)"
      ],
      "execution_count": 7,
      "outputs": []
    },
    {
      "cell_type": "code",
      "metadata": {
        "colab": {
          "base_uri": "https://localhost:8080/",
          "height": 329
        },
        "id": "BW8V8jg2fQa6",
        "outputId": "a0b2866c-8c9f-4799-feb5-4a2bad86d831"
      },
      "source": [
        "sns.heatmap(acm.isnull(),cmap='viridis',cbar='true')\n"
      ],
      "execution_count": 8,
      "outputs": [
        {
          "output_type": "execute_result",
          "data": {
            "text/plain": [
              "<matplotlib.axes._subplots.AxesSubplot at 0x7f6fb6c23470>"
            ]
          },
          "metadata": {
            "tags": []
          },
          "execution_count": 8
        },
        {
          "output_type": "display_data",
          "data": {
            "image/png": "[encoded data removed]",
            "text/plain": [
              "<Figure size 432x288 with 2 Axes>"
            ]
          },
          "metadata": {
            "tags": [],
            "needs_background": "light"
          }
        }
      ]
    },
    {
      "cell_type": "code",
      "metadata": {
        "colab": {
          "base_uri": "https://localhost:8080/",
          "height": 391
        },
        "id": "TU-jL4umn5O5",
        "outputId": "a8dd5c17-caba-41c7-d51f-04b483794409"
      },
      "source": [
        "sns.pairplot(acm) "
      ],
      "execution_count": 9,
      "outputs": [
        {
          "output_type": "execute_result",
          "data": {
            "text/plain": [
              "<seaborn.axisgrid.PairGrid at 0x7f6fb6390cf8>"
            ]
          },
          "metadata": {
            "tags": []
          },
          "execution_count": 9
        },
        {
          "output_type": "display_data",
          "data": {
            "image/png": "[encoded data removed]",
            "text/plain": [
              "<Figure size 360x360 with 6 Axes>"
            ]
          },
          "metadata": {
            "tags": [],
            "needs_background": "light"
          }
        }
      ]
    },
    {
      "cell_type": "code",
      "metadata": {
        "id": "flPzUptYqCM6"
      },
      "source": [
        "import matplotlib.pyplot as plt"
      ],
      "execution_count": 10,
      "outputs": []
    },
    {
      "cell_type": "code",
      "metadata": {
        "colab": {
          "base_uri": "https://localhost:8080/",
          "height": 296
        },
        "id": "mR5sdUixoViA",
        "outputId": "d184b4ad-19c2-4929-cf7f-62f065f4b432"
      },
      "source": [
        "#sns.set_theme(style=\"darkgrid\")\n",
        "#ax = sns.countplot(x=\"year\", data=acm)\n",
        "fig_dims = (10, 4)\n",
        "\n",
        "fig, ax = plt.subplots(figsize=fig_dims)\n",
        "\n",
        "#sns.barplot(x = \"year\", y = \"count\", ax=ax, data=df)\n",
        "sns.countplot(x=\"year\", ax=ax, data=acm)"
      ],
      "execution_count": 11,
      "outputs": [
        {
          "output_type": "execute_result",
          "data": {
            "text/plain": [
              "<matplotlib.axes._subplots.AxesSubplot at 0x7f6fa92c8f28>"
            ]
          },
          "metadata": {
            "tags": []
          },
          "execution_count": 11
        },
        {
          "output_type": "display_data",
          "data": {
            "image/png": "[encoded data removed]",
            "text/plain": [
              "<Figure size 720x288 with 1 Axes>"
            ]
          },
          "metadata": {
            "tags": [],
            "needs_background": "light"
          }
        }
      ]
    },
    {
      "cell_type": "code",
      "metadata": {
        "colab": {
          "base_uri": "https://localhost:8080/",
          "height": 285
        },
        "id": "kIOrDr_zooyh",
        "outputId": "686583c9-85e0-4e7a-c6c8-c10f586bd7f5"
      },
      "source": [
        "sns.set_theme(style=\"darkgrid\")\n",
        "\n",
        "ax = sns.countplot(x=\"numpages\", data=acm)"
      ],
      "execution_count": 12,
      "outputs": [
        {
          "output_type": "display_data",
          "data": {
            "image/png": "[encoded data removed]",
            "text/plain": [
              "<Figure size 432x288 with 1 Axes>"
            ]
          },
          "metadata": {
            "tags": []
          }
        }
      ]
    },
    {
      "cell_type": "code",
      "metadata": {
        "id": "mDIiICTEwx3q"
      },
      "source": [
        "acm['keywords'] = acm['keywords'].str.upper()"
      ],
      "execution_count": 31,
      "outputs": []
    },
    {
      "cell_type": "code",
      "metadata": {
        "id": "T-FosffQqf-f"
      },
      "source": [
        "df=acm\n",
        "df['keywords'] = df['keywords'].astype(str)\n",
        "count=df.keywords.apply(lambda x: pd.value_counts(x.split(\",\"))).sum(axis = 0)\n",
        "count.to_csv('keyword.csv')"
      ],
      "execution_count": 32,
      "outputs": []
    },
    {
      "cell_type": "code",
      "metadata": {
        "id": "RL4A2-9xrFa-"
      },
      "source": [
        "df['author']=df['author'].astype(str)\n",
        "count_auth=df.author.apply(lambda x: pd.value_counts(x.split(\",\"))).sum(axis = 0)\n",
        "count_auth.to_csv('author.csv')"
      ],
      "execution_count": 33,
      "outputs": []
    },
    {
      "cell_type": "code",
      "metadata": {
        "id": "WEKk8l0QrL72"
      },
      "source": [
        "auth = pd.read_csv('author.csv')\n",
        "keyword = pd.read_csv('keyword.csv')"
      ],
      "execution_count": 34,
      "outputs": []
    },
    {
      "cell_type": "code",
      "metadata": {
        "colab": {
          "base_uri": "https://localhost:8080/",
          "height": 424
        },
        "id": "flSVzuXJrQLY",
        "outputId": "b2d75ef8-1614-4688-baa9-e7da3266d0b0"
      },
      "source": [
        "auth.rename( columns={'Unnamed: 0':'authors'}, inplace=True )\n",
        "auth.rename( columns={'0':'no of publications'}, inplace=True )\n",
        "auth.head(150)"
      ],
      "execution_count": 38,
      "outputs": [
        {
          "output_type": "execute_result",
          "data": {
            "text/html": [
              "<div>\n",
              "<style scoped>\n",
              "    .dataframe tbody tr th:only-of-type {\n",
              "        vertical-align: middle;\n",
              "    }\n",
              "\n",
              "    .dataframe tbody tr th {\n",
              "        vertical-align: top;\n",
              "    }\n",
              "\n",
              "    .dataframe thead th {\n",
              "        text-align: right;\n",
              "    }\n",
              "</style>\n",
              "<table border=\"1\" class=\"dataframe\">\n",
              "  <thead>\n",
              "    <tr style=\"text-align: right;\">\n",
              "      <th></th>\n",
              "      <th>authors</th>\n",
              "      <th>no of publications</th>\n",
              "    </tr>\n",
              "  </thead>\n",
              "  <tbody>\n",
              "    <tr>\n",
              "      <th>0</th>\n",
              "      <td>Shams Imam</td>\n",
              "      <td>1.0</td>\n",
              "    </tr>\n",
              "    <tr>\n",
              "      <th>1</th>\n",
              "      <td>Antonio Leitao</td>\n",
              "      <td>1.0</td>\n",
              "    </tr>\n",
              "    <tr>\n",
              "      <th>2</th>\n",
              "      <td>Pedro Ramos</td>\n",
              "      <td>1.0</td>\n",
              "    </tr>\n",
              "    <tr>\n",
              "      <th>3</th>\n",
              "      <td>Tom De Smedt</td>\n",
              "      <td>2.0</td>\n",
              "    </tr>\n",
              "    <tr>\n",
              "      <th>4</th>\n",
              "      <td>Walter Daelemans</td>\n",
              "      <td>2.0</td>\n",
              "    </tr>\n",
              "    <tr>\n",
              "      <th>...</th>\n",
              "      <td>...</td>\n",
              "      <td>...</td>\n",
              "    </tr>\n",
              "    <tr>\n",
              "      <th>123</th>\n",
              "      <td>Md Islam</td>\n",
              "      <td>1.0</td>\n",
              "    </tr>\n",
              "    <tr>\n",
              "      <th>124</th>\n",
              "      <td>Sumon Biswas</td>\n",
              "      <td>1.0</td>\n",
              "    </tr>\n",
              "    <tr>\n",
              "      <th>125</th>\n",
              "      <td>Antoine Mine</td>\n",
              "      <td>1.0</td>\n",
              "    </tr>\n",
              "    <tr>\n",
              "      <th>126</th>\n",
              "      <td>Raphael Monat</td>\n",
              "      <td>1.0</td>\n",
              "    </tr>\n",
              "    <tr>\n",
              "      <th>127</th>\n",
              "      <td>Abdelraouf Ouadjaout</td>\n",
              "      <td>1.0</td>\n",
              "    </tr>\n",
              "  </tbody>\n",
              "</table>\n",
              "<p>128 rows × 2 columns</p>\n",
              "</div>"
            ],
            "text/plain": [
              "                   authors  no of publications\n",
              "0               Shams Imam                 1.0\n",
              "1           Antonio Leitao                 1.0\n",
              "2              Pedro Ramos                 1.0\n",
              "3             Tom De Smedt                 2.0\n",
              "4         Walter Daelemans                 2.0\n",
              "..                     ...                 ...\n",
              "123               Md Islam                 1.0\n",
              "124           Sumon Biswas                 1.0\n",
              "125           Antoine Mine                 1.0\n",
              "126          Raphael Monat                 1.0\n",
              "127   Abdelraouf Ouadjaout                 1.0\n",
              "\n",
              "[128 rows x 2 columns]"
            ]
          },
          "metadata": {
            "tags": []
          },
          "execution_count": 38
        }
      ]
    },
    {
      "cell_type": "code",
      "metadata": {
        "colab": {
          "base_uri": "https://localhost:8080/",
          "height": 302
        },
        "id": "gya5sWeNrUN8",
        "outputId": "f39a7fbd-c976-4fa6-8804-b3812334d865"
      },
      "source": [
        "sns.set_theme(style=\"darkgrid\")\n",
        "fig_dims = (10, 4)\n",
        "\n",
        "fig, ax = plt.subplots(figsize=fig_dims)\n",
        "sns.countplot(y=\"no of publications\",ax=ax, data=auth)"
      ],
      "execution_count": 39,
      "outputs": [
        {
          "output_type": "execute_result",
          "data": {
            "text/plain": [
              "<matplotlib.axes._subplots.AxesSubplot at 0x7f6fa8030e10>"
            ]
          },
          "metadata": {
            "tags": []
          },
          "execution_count": 39
        },
        {
          "output_type": "display_data",
          "data": {
            "image/png": "[encoded data removed]",
            "text/plain": [
              "<Figure size 720x288 with 1 Axes>"
            ]
          },
          "metadata": {
            "tags": []
          }
        }
      ]
    },
    {
      "cell_type": "code",
      "metadata": {
        "colab": {
          "base_uri": "https://localhost:8080/",
          "height": 206
        },
        "id": "LdAUNmlurYtM",
        "outputId": "ac6d2181-85bc-459f-d380-eeed539cbcc3"
      },
      "source": [
        "keyword.rename( columns={'Unnamed: 0':'words'}, inplace=True )\n",
        "keyword.rename( columns={'0':'keyword counts'}, inplace=True )\n",
        "keyword.head()"
      ],
      "execution_count": 40,
      "outputs": [
        {
          "output_type": "execute_result",
          "data": {
            "text/html": [
              "<div>\n",
              "<style scoped>\n",
              "    .dataframe tbody tr th:only-of-type {\n",
              "        vertical-align: middle;\n",
              "    }\n",
              "\n",
              "    .dataframe tbody tr th {\n",
              "        vertical-align: top;\n",
              "    }\n",
              "\n",
              "    .dataframe thead th {\n",
              "        text-align: right;\n",
              "    }\n",
              "</style>\n",
              "<table border=\"1\" class=\"dataframe\">\n",
              "  <thead>\n",
              "    <tr style=\"text-align: right;\">\n",
              "      <th></th>\n",
              "      <th>words</th>\n",
              "      <th>keyword counts</th>\n",
              "    </tr>\n",
              "  </thead>\n",
              "  <tbody>\n",
              "    <tr>\n",
              "      <th>0</th>\n",
              "      <td>PARALLEL PROGRAMMING</td>\n",
              "      <td>1.0</td>\n",
              "    </tr>\n",
              "    <tr>\n",
              "      <th>1</th>\n",
              "      <td>CONCURRENT COLLECTIONS</td>\n",
              "      <td>1.0</td>\n",
              "    </tr>\n",
              "    <tr>\n",
              "      <th>2</th>\n",
              "      <td>CNC-PYTHON</td>\n",
              "      <td>1.0</td>\n",
              "    </tr>\n",
              "    <tr>\n",
              "      <th>3</th>\n",
              "      <td>PYTHON</td>\n",
              "      <td>36.0</td>\n",
              "    </tr>\n",
              "    <tr>\n",
              "      <th>4</th>\n",
              "      <td>RACKET</td>\n",
              "      <td>1.0</td>\n",
              "    </tr>\n",
              "  </tbody>\n",
              "</table>\n",
              "</div>"
            ],
            "text/plain": [
              "                     words  keyword counts\n",
              "0     PARALLEL PROGRAMMING             1.0\n",
              "1   CONCURRENT COLLECTIONS             1.0\n",
              "2               CNC-PYTHON             1.0\n",
              "3                   PYTHON            36.0\n",
              "4                   RACKET             1.0"
            ]
          },
          "metadata": {
            "tags": []
          },
          "execution_count": 40
        }
      ]
    },
    {
      "cell_type": "code",
      "metadata": {
        "colab": {
          "base_uri": "https://localhost:8080/",
          "height": 411
        },
        "id": "-CtcfYTytSzB",
        "outputId": "bd54cedc-c100-4674-e4b1-2a699ca7cb76"
      },
      "source": [
        "sns.set_theme(style=\"darkgrid\")\n",
        "fig_dims = (8, 6)\n",
        "\n",
        "fig, ax = plt.subplots(figsize=fig_dims)\n",
        "sns.countplot(y=\"keyword counts\",ax=ax, data=keyword)"
      ],
      "execution_count": 41,
      "outputs": [
        {
          "output_type": "execute_result",
          "data": {
            "text/plain": [
              "<matplotlib.axes._subplots.AxesSubplot at 0x7f6fa80027b8>"
            ]
          },
          "metadata": {
            "tags": []
          },
          "execution_count": 41
        },
        {
          "output_type": "display_data",
          "data": {
            "image/png": "[encoded data removed]",
            "text/plain": [
              "<Figure size 576x432 with 1 Axes>"
            ]
          },
          "metadata": {
            "tags": []
          }
        }
      ]
    },
    {
      "cell_type": "code",
      "metadata": {
        "colab": {
          "base_uri": "https://localhost:8080/",
          "height": 265
        },
        "id": "AC0J59jWtXkF",
        "outputId": "34029c70-89aa-440d-a600-369e443caf27"
      },
      "source": [
        "df = pd.DataFrame()\n",
        "df = pd.read_csv('keyword.csv', sep=',')\n",
        "df.head(5)\n",
        "pie_data = df.groupby(['Unnamed: 0'])['0'].agg('sum')\n",
        "sorted_pie_data = pie_data.sort_values(ascending=False)\n",
        "sorted_pie_data[1:6].plot.pie()"
      ],
      "execution_count": 43,
      "outputs": [
        {
          "output_type": "execute_result",
          "data": {
            "text/plain": [
              "<matplotlib.axes._subplots.AxesSubplot at 0x7f6fa7f84eb8>"
            ]
          },
          "metadata": {
            "tags": []
          },
          "execution_count": 43
        },
        {
          "output_type": "display_data",
          "data": {
            "image/png": "[encoded data removed]",
            "text/plain": [
              "<Figure size 432x288 with 1 Axes>"
            ]
          },
          "metadata": {
            "tags": []
          }
        }
      ]
    },
    {
      "cell_type": "code",
      "metadata": {
        "id": "1SxsoLOrt3ol"
      },
      "source": [
        ""
      ],
      "execution_count": null,
      "outputs": []
    }
  ]
}